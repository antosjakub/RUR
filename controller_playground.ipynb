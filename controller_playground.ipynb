{
 "cells": [
  {
   "cell_type": "code",
   "execution_count": 1,
   "metadata": {},
   "outputs": [],
   "source": [
    "from pyPS4Controller.controller import Controller"
   ]
  },
  {
   "cell_type": "code",
   "execution_count": 9,
   "metadata": {},
   "outputs": [
    {
     "name": "stdout",
     "output_type": "stream",
     "text": [
      "on_L1_press\n",
      "on_L1_release\n",
      "on_L2_press\n",
      "on_L2_release\n",
      "on_L3_down\n",
      "on_L3_left\n",
      "on_L3_press\n",
      "on_L3_release\n",
      "on_L3_right\n",
      "on_L3_up\n",
      "on_L3_x_at_rest\n",
      "on_L3_y_at_rest\n",
      "on_R1_press\n",
      "on_R1_release\n",
      "on_R2_press\n",
      "on_R2_release\n",
      "on_R3_down\n",
      "on_R3_left\n",
      "on_R3_press\n",
      "on_R3_release\n",
      "on_R3_right\n",
      "on_R3_up\n",
      "on_R3_x_at_rest\n",
      "on_R3_y_at_rest\n",
      "on_circle_press\n",
      "on_circle_release\n",
      "on_down_arrow_press\n",
      "on_left_arrow_press\n",
      "on_left_right_arrow_release\n",
      "on_options_press\n",
      "on_options_release\n",
      "on_playstation_button_press\n",
      "on_playstation_button_release\n",
      "on_right_arrow_press\n",
      "on_share_press\n",
      "on_share_release\n",
      "on_square_press\n",
      "on_square_release\n",
      "on_triangle_press\n",
      "on_triangle_release\n",
      "on_up_arrow_press\n",
      "on_up_down_arrow_release\n",
      "on_x_press\n",
      "on_x_release\n"
     ]
    }
   ],
   "source": [
    "for attr in dir(Controller):\n",
    "    if attr.startswith(\"on_\"):\n",
    "            print(attr)"
   ]
  }
 ],
 "metadata": {
  "kernelspec": {
   "display_name": "venv",
   "language": "python",
   "name": "python3"
  },
  "language_info": {
   "codemirror_mode": {
    "name": "ipython",
    "version": 3
   },
   "file_extension": ".py",
   "mimetype": "text/x-python",
   "name": "python",
   "nbconvert_exporter": "python",
   "pygments_lexer": "ipython3",
   "version": "3.13.2"
  }
 },
 "nbformat": 4,
 "nbformat_minor": 2
}
